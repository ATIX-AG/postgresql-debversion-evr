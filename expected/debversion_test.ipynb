{
 "cells": [
  {
   "cell_type": "markdown",
   "metadata": {},
   "source": [
    "# This file generates outputfile for debversioncompare tests using the built in version compare from dpkg."
   ]
  },
  {
   "cell_type": "code",
   "execution_count": 115,
   "metadata": {},
   "outputs": [],
   "source": [
    "from subprocess import run\n",
    "\n",
    "def compare(version1, version2, op):\n",
    "    dictionary = {\"<\":\"lt\", \">\":\"gt\", \"<=\":\"le\", \">=\":\"ge\", \"=\":\"eq\", \"!=\":\"ne\"}\n",
    "    dpkg_op = dictionary[op] \n",
    "    command = f\"dpkg --compare-versions {version1} {dpkg_op} {version2}\"\n",
    "    result = run(command.split())\n",
    "    if result.returncode == 0:\n",
    "        return 't'\n",
    "    else:\n",
    "        return 'f'"
   ]
  },
  {
   "cell_type": "code",
   "execution_count": 116,
   "metadata": {},
   "outputs": [
    {
     "data": {
      "text/plain": [
       "'t'"
      ]
     },
     "execution_count": 116,
     "metadata": {},
     "output_type": "execute_result"
    }
   ],
   "source": [
    "compare('1.1.1', '1.1.2', '<')"
   ]
  },
  {
   "cell_type": "code",
   "execution_count": 117,
   "metadata": {
    "scrolled": true
   },
   "outputs": [],
   "source": [
    "with open(\"../sql/debversion_test.sql\") as f:\n",
    "    fin = f.readlines()"
   ]
  },
  {
   "cell_type": "code",
   "execution_count": 118,
   "metadata": {},
   "outputs": [],
   "source": [
    "import re\n",
    "\n",
    "output = open(\"debversion_test.out\", \"wt\")\n",
    "for line in fin:\n",
    "    if line == '\\n':\n",
    "        continue\n",
    "    output.write(line)\n",
    "    if line.startswith(\"SELECT\"):\n",
    "        mask = re.compile(r\"SELECT '([0-9a-zA-Z\\+\\-\\.\\:\\~]+)'::debversion ([\\>\\<\\=\\!]+) '([0-9a-zA-Z\\+\\-\\.\\:\\~]+)'::debversion;\")\n",
    "        match = mask.match(line)\n",
    "        version1 = match.group(1)\n",
    "        op = match.group(2)\n",
    "        version2 = match.group(3)\n",
    "        letter = compare(version1, version2, op)\n",
    "        text = f\" ?column? \\n----------\\n {letter}\\n(1 row)\\n\\n\"\n",
    "        output.write(text)\n",
    "\n",
    "output.close()"
   ]
  },
  {
   "cell_type": "markdown",
   "metadata": {},
   "source": [
    "Comparing function using debian python implementation"
   ]
  },
  {
   "cell_type": "code",
   "execution_count": 119,
   "metadata": {},
   "outputs": [],
   "source": [
    "from debian import debian_support \n",
    "def compare1(version1, version2, op):   \n",
    "    vc = debian_support.version_compare(a,b)\n",
    "    if vc > 0:\n",
    "        print('version a > version b')\n",
    "        if op in [\">\",\">=\"]:\n",
    "            return \"t\"\n",
    "        else:\n",
    "            return \"f\"\n",
    "    elif vc == 0:\n",
    "        print('version a == version b')\n",
    "        if op  == \"=\":\n",
    "            return \"t\"\n",
    "        else:\n",
    "            return \"f\"\n",
    "    elif vc < 0:\n",
    "        print('version a < version b')\n",
    "        if op in [\"<\", \"<=\"]:\n",
    "            return \"t\"\n",
    "        else:\n",
    "            return \"f\""
   ]
  },
  {
   "cell_type": "code",
   "execution_count": null,
   "metadata": {},
   "outputs": [],
   "source": []
  }
 ],
 "metadata": {
  "kernelspec": {
   "display_name": "Python 3",
   "language": "python",
   "name": "python3"
  },
  "language_info": {
   "codemirror_mode": {
    "name": "ipython",
    "version": 3
   },
   "file_extension": ".py",
   "mimetype": "text/x-python",
   "name": "python",
   "nbconvert_exporter": "python",
   "pygments_lexer": "ipython3",
   "version": "3.8.5"
  }
 },
 "nbformat": 4,
 "nbformat_minor": 4
}
